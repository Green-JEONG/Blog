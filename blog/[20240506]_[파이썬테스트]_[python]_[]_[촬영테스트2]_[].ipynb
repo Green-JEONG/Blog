{
  "nbformat": 4,
  "nbformat_minor": 0,
  "metadata": {
    "colab": {
      "provenance": []
    },
    "kernelspec": {
      "name": "python3",
      "display_name": "Python 3"
    },
    "language_info": {
      "name": "python"
    }
  },
  "cells": [
    {
      "cell_type": "code",
      "execution_count": 1,
      "metadata": {
        "colab": {
          "base_uri": "https://localhost:8080/"
        },
        "id": "BSvwJ98lHQvw",
        "outputId": "029f9bc5-113f-4c4a-fec9-844e9dfa4a5f"
      },
      "outputs": [
        {
          "output_type": "stream",
          "name": "stdout",
          "text": [
            "hello world\n"
          ]
        }
      ],
      "source": [
        "print('hello world')"
      ]
    },
    {
      "cell_type": "code",
      "source": [
        "for i in range(10):\n",
        "  print(i)"
      ],
      "metadata": {
        "colab": {
          "base_uri": "https://localhost:8080/"
        },
        "id": "pCqBSG0YHcyD",
        "outputId": "fd893f5c-80dc-4f84-f273-b13b1fbdf959"
      },
      "execution_count": 2,
      "outputs": [
        {
          "output_type": "stream",
          "name": "stdout",
          "text": [
            "0\n",
            "1\n",
            "2\n",
            "3\n",
            "4\n",
            "5\n",
            "6\n",
            "7\n",
            "8\n",
            "9\n"
          ]
        }
      ]
    },
    {
      "cell_type": "markdown",
      "source": [
        "# hello world\n",
        "\n",
        "## hello wolrd\n",
        "\n",
        "* hello world\n",
        "* hello world\n",
        "* hello world"
      ],
      "metadata": {
        "id": "74nt3jX4HrG2"
      }
    }
  ]
}